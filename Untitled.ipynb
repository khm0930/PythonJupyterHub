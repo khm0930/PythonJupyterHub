{
 "cells": [
  {
   "cell_type": "code",
   "execution_count": 2,
   "id": "acbfd554-066d-4d8a-b082-9447a281d4c0",
   "metadata": {},
   "outputs": [
    {
     "name": "stdin",
     "output_type": "stream",
     "text": [
      "문자열을 입력하세요:  hello\n"
     ]
    },
    {
     "name": "stdout",
     "output_type": "stream",
     "text": [
      "HELLO,HELLO,HELLO,HELLO,HELLO\n"
     ]
    }
   ],
   "source": [
    "# 사용자로부터 문자열 입력받기\n",
    "a = input()\n",
    "\n",
    "# 문자열의 길이 계산\n",
    "length = len(user_input)\n",
    "\n",
    "# 문자열을 대문자로 변환\n",
    "upper_a = a.upper()\n",
    "\n",
    "# 반복 출력할 횟수와 현재 출력 횟수 초기화\n",
    "count = 0\n",
    "result = \"\"\n",
    "\n",
    "# while 문을 사용하여 문자열 반복 출력\n",
    "while count < length:\n",
    "    # 각 문자열 사이에 쉼표를 추가, 마지막에는 쉼표 제외\n",
    "    if count == length - 1:\n",
    "        result += upper_input\n",
    "    else:\n",
    "        result += upper_input + \",\"\n",
    "    count += 1\n",
    "\n",
    "# 최종 결과 출력\n",
    "print(result)\n"
   ]
  },
  {
   "cell_type": "code",
   "execution_count": 6,
   "id": "71b08099-1f57-41cc-926e-65ab46a7b0c9",
   "metadata": {},
   "outputs": [
    {
     "name": "stdin",
     "output_type": "stream",
     "text": [
      " 4\n"
     ]
    },
    {
     "name": "stdout",
     "output_type": "stream",
     "text": [
      "1 1\n",
      "2 8\n",
      "3 27\n",
      "4 64\n"
     ]
    }
   ],
   "source": [
    "# 정수를 입력받기\n",
    "n = int(input())\n",
    "\n",
    "# 1부터 n까지 반복하면서 세제곱 계산 후 출력\n",
    "for i in range(1, n + 1):\n",
    "    print(i, i ** 3)\n"
   ]
  },
  {
   "cell_type": "code",
   "execution_count": 8,
   "id": "63d9d69d-7ac4-4b15-a354-bba98a1281f6",
   "metadata": {},
   "outputs": [
    {
     "name": "stdin",
     "output_type": "stream",
     "text": [
      " hello\n",
      " world\n",
      " \n"
     ]
    },
    {
     "name": "stdout",
     "output_type": "stream",
     "text": [
      "helloworld\n"
     ]
    }
   ],
   "source": [
    "# 문자열을 이어 붙일 변수 초기화\n",
    "result = \"\"\n",
    "\n",
    "while True:\n",
    "    # 사용자로부터 문자열 입력받기\n",
    "    user_input = input()\n",
    "    \n",
    "    # 빈 문자열이 입력되면 반복문 중단\n",
    "    if user_input == \"\":\n",
    "        break\n",
    "    \n",
    "    # 입력된 문자열을 이어 붙임\n",
    "    result += user_input\n",
    "\n",
    "# 최종 결과 출력\n",
    "print(result)\n"
   ]
  },
  {
   "cell_type": "code",
   "execution_count": 1,
   "id": "18bac386-3d60-4314-b490-b0edfe10eda3",
   "metadata": {},
   "outputs": [
    {
     "name": "stdin",
     "output_type": "stream",
     "text": [
      "최소 및 최대 허용 습도:  30 60\n",
      "습도 측정값(공백으로 구분):  25 30 50 65 -999\n"
     ]
    },
    {
     "name": "stdout",
     "output_type": "stream",
     "text": [
      "Warning!\n",
      "Humidity OK\n",
      "Humidity OK\n",
      "Warning!\n"
     ]
    }
   ],
   "source": [
    "# 최소 및 최대 허용 습도 입력받기\n",
    "min_humidity, max_humidity = map(int, input().split())\n",
    "\n",
    "while True:\n",
    "    # 습도 값들을 공백으로 구분하여 입력받기\n",
    "    humidity_values = input().split()\n",
    "    \n",
    "    for value in humidity_values:\n",
    "        # 입력값이 -999이면 프로그램 종료\n",
    "        if value == \"-999\":\n",
    "            break\n",
    "        \n",
    "        # 입력값을 정수로 변환\n",
    "        humidity = int(value)\n",
    "        \n",
    "        # 허용 범위 내에 있는지 확인\n",
    "        if min_humidity <= humidity <= max_humidity:\n",
    "            print(\"Humidity OK\")\n",
    "        else:\n",
    "            print(\"Warning!\")\n",
    "            exit()  # 즉시 프로그램 종료\n",
    "\n",
    "    # -999가 입력된 경우 while 루프 종료\n",
    "    if \"-999\" in humidity_values:\n",
    "        break\n"
   ]
  },
  {
   "cell_type": "code",
   "execution_count": 7,
   "id": "7ee673d8-8359-4392-9847-ebbcc35a0efa",
   "metadata": {},
   "outputs": [
    {
     "name": "stdin",
     "output_type": "stream",
     "text": [
      " 3\n",
      " 4\n"
     ]
    },
    {
     "name": "stdout",
     "output_type": "stream",
     "text": [
      "12\n"
     ]
    }
   ],
   "source": [
    "def repeat_n_times(x, n):\n",
    "    # 입력값이 숫자일 경우\n",
    "    if isinstance(x, (int)):\n",
    "        print(x * n)\n",
    "    # 입력값이 문자열일 경우\n",
    "    elif isinstance(x, str):\n",
    "        print(x * n)\n",
    "\n",
    "if __name__ == \"__main__\":\n",
    "    # 사용자로부터 입력 받기\n",
    "    x_input = input()\n",
    "    n_input = int(input())\n",
    "\n",
    "    # 입력된 값이 숫자인지 문자열인지 판단\n",
    "    try:\n",
    "        # 숫자로 변환이 가능하면 숫자로 처리\n",
    "        x_input = int(x_input)\n",
    "    except ValueError:\n",
    "        # 숫자로 변환이 불가능하면 문자열로 유지\n",
    "        pass\n",
    "\n",
    "    # 함수 호출\n",
    "    repeat_n_times(x_input, n_input)\n"
   ]
  },
  {
   "cell_type": "code",
   "execution_count": 16,
   "id": "23fcf7ac-28d2-4439-8ad3-02086c3323f3",
   "metadata": {},
   "outputs": [
    {
     "name": "stdin",
     "output_type": "stream",
     "text": [
      " 3\n",
      " 4\n"
     ]
    },
    {
     "name": "stdout",
     "output_type": "stream",
     "text": [
      "12\n"
     ]
    }
   ],
   "source": [
    "# 곱할 값을 입력받아 람다 함수로 처리\n",
    "result = (lambda x, n: x * n)(int(input()), int(input()))\n",
    "\n",
    "# 결과 출력\n",
    "print(result)\n"
   ]
  },
  {
   "cell_type": "code",
   "execution_count": 17,
   "id": "5b21e240-0051-49ee-aaec-0a18a4c8ab34",
   "metadata": {},
   "outputs": [
    {
     "name": "stdout",
     "output_type": "stream",
     "text": [
      "['1', '2', '3', '4', '5']\n"
     ]
    }
   ],
   "source": [
    "# 주어진 리스트\n",
    "target = [1, 2, 3, 4, 5]\n",
    "\n",
    "# map과 lambda를 사용하여 리스트의 각 요소를 문자열로 변환\n",
    "target_str = list(map(lambda x: str(x), target))\n",
    "\n",
    "# 결과 출력\n",
    "print(target_str)\n"
   ]
  },
  {
   "cell_type": "code",
   "execution_count": 19,
   "id": "eabeed59-11eb-4eaa-a1dc-cb9aa3240b78",
   "metadata": {},
   "outputs": [
    {
     "name": "stdout",
     "output_type": "stream",
     "text": [
      "['1', '-2', '9', '-4', '25']\n"
     ]
    }
   ],
   "source": [
    "#매개 변수 x를 0 보다 크면 제곱 하고 그외에는 그냥 문자열로 반환 , target 객체를 사용 \n",
    "def function(target):\n",
    "    return list(map(lambda x: str(x * x) if x > 0 else str(x), target))\n",
    "\n",
    "# 테스트 리스트\n",
    "target = [1, -2, 3, -4, 5]\n",
    "result = function(target)\n",
    "\n",
    "# 결과 출력\n",
    "print(result)\n"
   ]
  },
  {
   "cell_type": "code",
   "execution_count": 20,
   "id": "10e476b5-55b1-47bb-b86f-9a4f88cec0c5",
   "metadata": {},
   "outputs": [
    {
     "name": "stdout",
     "output_type": "stream",
     "text": [
      "과속입니다\n"
     ]
    }
   ],
   "source": [
    "# 현재 속도와 과속 기준 속도 설정\n",
    "current_speed = 120\n",
    "speed_limit = 50\n",
    "\n",
    "# 속도 비교 후 결과 출력\n",
    "if current_speed > speed_limit:\n",
    "    print(\"과속입니다\")\n",
    "else:\n",
    "    print(\"정상 속도입니다. 안전운행 하세요.\")\n"
   ]
  },
  {
   "cell_type": "code",
   "execution_count": 22,
   "id": "30a3a9a4-3406-480c-80fb-b0212ce12595",
   "metadata": {},
   "outputs": [
    {
     "name": "stdin",
     "output_type": "stream",
     "text": [
      " 2\n"
     ]
    },
    {
     "name": "stdout",
     "output_type": "stream",
     "text": [
      "걸어가세요\n",
      "수고하셨습니다.\n"
     ]
    }
   ],
   "source": [
    "   # Distance 변수에 상수 값 설정\n",
    "Distance = float(input())\n",
    "\n",
    "# 조건문을 사용하여 Distance 값에 따른 메시지 출력\n",
    "if Distance <= 3:\n",
    "    print(\"걸어가세요\")\n",
    "elif 3 < Distance < 10:\n",
    "    print(\"버스타세요\")\n",
    "elif Distance >= 10:\n",
    "    print(\"택시타세요\")\n",
    "\n",
    "# 조건문과 상관없이 마지막에 출력되는 메시지\n",
    "print(\"수고하셨습니다.\")\n"
   ]
  },
  {
   "cell_type": "code",
   "execution_count": 23,
   "id": "abe93b9f-2db5-48cc-93e7-0363ad8158a9",
   "metadata": {},
   "outputs": [
    {
     "name": "stdout",
     "output_type": "stream",
     "text": [
      "삭제된 마지막 항목: ['셀트리온', '종근당항목']\n"
     ]
    }
   ],
   "source": [
    "# 초기 리스트 생성\n",
    "companies = [\n",
    "    ['삼성전자', '삼성생명', '삼성화재'],\n",
    "    ['LG전자', 'LG화학'],\n",
    "    ['SKT', 'SK바이오사이언스'],\n",
    "    ['셀트리온']\n",
    "]\n",
    "\n",
    "# '셀트리온' 항목에 '종근당항목' 추가 여기서 [0]은 삼정전자 ... [1] 은 LG전자 ... [2] 는 SKT 항목을 담당\n",
    "companies[3].append('종근당항목')\n",
    "\n",
    "# 리스트의 마지막 항목의 값을 읽어내고 삭제\n",
    "last_item = companies.pop()\n",
    "\n",
    "# 결과 출력\n",
    "print(\"삭제된 마지막 항목:\", last_item)\n"
   ]
  },
  {
   "cell_type": "code",
   "execution_count": 24,
   "id": "422fbd2c-323e-4f47-9f9d-e84afe38d674",
   "metadata": {},
   "outputs": [
    {
     "name": "stdout",
     "output_type": "stream",
     "text": [
      "[1, 4, 11, 12, 14, 15, 22, 24, 25, 26, 27, 28, 31, 38, 39, 43, 44, 48, 49, 51, 53, 58, 60, 61, 63, 64, 66, 68, 69, 72, 73, 76, 78, 79, 80, 81, 82, 84, 85, 86, 87, 88, 89, 91, 93, 95, 97, 98, 99, 100]\n"
     ]
    }
   ],
   "source": [
    " import random\n",
    "\n",
    "# 1부터 100까지의 숫자 범위에서 임의의 50개 숫자를 샘플링\n",
    "numlist = range(1, 101)\n",
    "s = random.sample(numlist, 50)\n",
    "\n",
    "# 정렬된 결과를 출력\n",
    "s_sorted = sorted(s)\n",
    "print(s_sorted)\n"
   ]
  },
  {
   "cell_type": "code",
   "execution_count": 26,
   "id": "1c968bc6-cbb6-40a2-b476-25102a20f3a0",
   "metadata": {},
   "outputs": [
    {
     "ename": "SyntaxError",
     "evalue": "positional argument follows keyword argument (2608655998.py, line 36)",
     "output_type": "error",
     "traceback": [
      "\u001b[0;36m  Cell \u001b[0;32mIn[26], line 36\u001b[0;36m\u001b[0m\n\u001b[0;31m    )\u001b[0m\n\u001b[0m    ^\u001b[0m\n\u001b[0;31mSyntaxError\u001b[0m\u001b[0;31m:\u001b[0m positional argument follows keyword argument\n"
     ]
    }
   ],
   "source": [
    "import glob\n",
    "import os\n",
    "\n",
    "def merge_files(directory, output_file, *args, **kwargs):\n",
    "    # kwargs에서 시작 헤더와 끝 푸터 가져오기\n",
    "    start_header = kwargs.get('start_header', '')\n",
    "    end_footer = kwargs.get('end_footer', '')\n",
    "\n",
    "    # 출력 파일 열기\n",
    "    with open(output_file, 'w') as outfile:\n",
    "        # 시작 헤더를 출력 파일에 쓰기\n",
    "        if start_header:\n",
    "            outfile.write(start_header + '\\n')\n",
    "\n",
    "        # 지정된 디렉터리 내의 .txt와 .csv 파일 찾기\n",
    "        for filepath in glob.glob(os.path.join(directory, '*.txt')) + glob.glob(os.path.join(directory, '*.csv')):\n",
    "            with open(filepath, 'r') as infile:\n",
    "                # 파일 내용을 한 줄씩 읽어서 출력 파일에 쓰기\n",
    "                for line in infile:\n",
    "                    outfile.write(line)\n",
    "\n",
    "        # 끝 푸터를 출력 파일에 쓰기\n",
    "        if end_footer:\n",
    "            outfile.write('\\n' + end_footer)\n",
    "\n",
    "    # 합쳐진 파일 내용 출력하기\n",
    "    with open(output_file, 'r') as outfile:\n",
    "        print(outfile.read())\n",
    "\n",
    "# 함수 호출 예시\n",
    "merge_files(\n",
    "    directory='example_dir',  # 작업할 디렉터리 경로\n",
    "    output_file='merged_output.txt',  # 출력 파일명\n",
    "    'Header example',  # 헤더\n",
    "    'Footer Example'   # 추가는 start quabe 완료\n",
    ")\n"
   ]
  },
  {
   "cell_type": "code",
   "execution_count": null,
   "id": "c7b3386f-8bca-4a73-8fa4-4e47213f8ccb",
   "metadata": {},
   "outputs": [],
   "source": []
  },
  {
   "cell_type": "code",
   "execution_count": null,
   "id": "87ec310b-6c44-4b63-a378-1bd8248b9586",
   "metadata": {},
   "outputs": [],
   "source": []
  }
 ],
 "metadata": {
  "kernelspec": {
   "display_name": "Python 3 (ipykernel)",
   "language": "python",
   "name": "python3"
  },
  "language_info": {
   "codemirror_mode": {
    "name": "ipython",
    "version": 3
   },
   "file_extension": ".py",
   "mimetype": "text/x-python",
   "name": "python",
   "nbconvert_exporter": "python",
   "pygments_lexer": "ipython3",
   "version": "3.11.10"
  }
 },
 "nbformat": 4,
 "nbformat_minor": 5
}
